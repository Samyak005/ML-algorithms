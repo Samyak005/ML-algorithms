{
 "cells": [
  {
   "cell_type": "markdown",
   "id": "186be3d3",
   "metadata": {},
   "source": [
    "# KNN Classifier"
   ]
  },
  {
   "cell_type": "markdown",
   "id": "edeabff5",
   "metadata": {},
   "source": [
    "### xTrain"
   ]
  },
  {
   "cell_type": "code",
   "execution_count": 2,
   "id": "69cac090",
   "metadata": {},
   "outputs": [],
   "source": [
    "import numpy as np\n",
    "import pandas as pd\n",
    "from sklearn.model_selection import train_test_split"
   ]
  },
  {
   "cell_type": "code",
   "execution_count": 3,
   "id": "e0fa6912",
   "metadata": {},
   "outputs": [],
   "source": [
    "#Load data\n",
    "iris = pd.read_csv('Iris.csv')\n",
    "#data cleaning\n",
    "iris.drop(columns=\"Id\",inplace=True)"
   ]
  },
  {
   "cell_type": "code",
   "execution_count": 4,
   "id": "1ca8135b",
   "metadata": {},
   "outputs": [],
   "source": [
    "#features and labels\n",
    "X=iris.iloc[:,0:4].values\n",
    "y=iris.iloc[:,4].values\n",
    "\n",
    "#Train and Test split\n",
    "X_train,X_test,y_train,y_test=train_test_split(X,y,test_size=0.2,random_state=0)"
   ]
  },
  {
   "cell_type": "code",
   "execution_count": 5,
   "id": "6ca8c19d",
   "metadata": {},
   "outputs": [
    {
     "name": "stdout",
     "output_type": "stream",
     "text": [
      "Iris-setosa        50\n",
      "Iris-versicolor    50\n",
      "Iris-virginica     50\n",
      "Name: Species, dtype: int64\n"
     ]
    }
   ],
   "source": [
    "print(iris['Species'].value_counts())"
   ]
  },
  {
   "cell_type": "code",
   "execution_count": 8,
   "id": "aa4ba56f",
   "metadata": {},
   "outputs": [],
   "source": [
    "def cosineSimilarityDistance(data1, data2, length):\n",
    "\n",
    "    d1 = 0\n",
    "    d2 = 0\n",
    "    d12 = 0\n",
    "    for x in range(length):\n",
    "        d1 += np.square(data1[x])\n",
    "        d2 += np.square(data2[x])\n",
    "        d12+= data1[x] * data2[x]\n",
    "\n",
    "    distance = d12 / (np.sqrt(d1) * np.sqrt(d2))\n",
    "    return distance"
   ]
  },
  {
   "cell_type": "code",
   "execution_count": 9,
   "id": "cec6b6f0",
   "metadata": {},
   "outputs": [],
   "source": [
    "def euclideanDistance(data1, data2, length):\n",
    "    distance = 0\n",
    "    for x in range(length):\n",
    "        distance += np.square(data1[x] - data2[x])\n",
    "       \n",
    "    return np.sqrt(distance)"
   ]
  },
  {
   "cell_type": "code",
   "execution_count": 103,
   "id": "9d720059",
   "metadata": {},
   "outputs": [],
   "source": [
    "from collections import defaultdict\n",
    "import operator\n",
    "def knn(xTrain, testInstance, k, yTrain): \n",
    "    distances = defaultdict(float)\n",
    "    length = len(testInstance)\n",
    "\n",
    "    for x in range(len(xTrain)):\n",
    "        distances[x] = euclideanDistance(testInstance, xTrain[x], length)\n",
    "\n",
    "    # Sort values based on distance\n",
    "    sort_distances = sorted(distances.items(), key=operator.itemgetter(1))\n",
    "\n",
    "    neighbors = []\n",
    "    # Extracting nearest k neighbors\n",
    "    for x in range(k):\n",
    "        neighbors.append(sort_distances[x][0])\n",
    "\n",
    "    print(neighbors)\n",
    "    # Initializing counts for 'class' labels counts as 0\n",
    "    ycounts = {\"Iris-setosa\" : 0, \"Iris-versicolor\" : 0, \"Iris-virginica\" : 0}\n",
    "    # Computing the most frequent class\n",
    "    for x in range(len(neighbors)):\n",
    "        response = yTrain[neighbors[x]]\n",
    "        if response in ycounts:\n",
    "            ycounts[response] += 1\n",
    "        else:\n",
    "            ycounts[response] = 1\n",
    "    # Sorting the class in reverse order to get the most frequest class\n",
    "    sort_counts = sorted(ycounts.items(), key=operator.itemgetter(1), reverse=True)\n",
    "    return(sort_counts[0][0])"
   ]
  },
  {
   "cell_type": "code",
   "execution_count": 73,
   "id": "2e2a894b",
   "metadata": {},
   "outputs": [],
   "source": [
    "def computeAccuracy(xTrain, yTrain, xTest, yTest, k):\n",
    "    numAccurate = 0\n",
    "    for i in range(len(xTest)):\n",
    "        predictedClass = knn(xTrain, xTest[i], k, yTrain)\n",
    "        if (predictedClass == yTest[i]):\n",
    "            numAccurate +=1\n",
    "    \n",
    "    accuracy = numAccurate/ len(xTest)\n",
    "    return accuracy"
   ]
  },
  {
   "cell_type": "code",
   "execution_count": 99,
   "id": "c124586d",
   "metadata": {},
   "outputs": [
    {
     "name": "stdout",
     "output_type": "stream",
     "text": [
      "1 1.0\n",
      "2 0.9666666666666667\n",
      "3 0.9666666666666667\n",
      "4 1.0\n",
      "5 0.9666666666666667\n",
      "6 1.0\n",
      "7 1.0\n",
      "8 1.0\n",
      "9 1.0\n",
      "10 1.0\n"
     ]
    }
   ],
   "source": [
    "for k in range(10):\n",
    "    print(k+1, computeAccuracy(X_train, y_train, X_test, y_test, k+1))"
   ]
  }
 ],
 "metadata": {
  "interpreter": {
   "hash": "31f2aee4e71d21fbe5cf8b01ff0e069b9275f58929596ceb00d14d90e3e16cd6"
  },
  "kernelspec": {
   "display_name": "Python [conda env:py36] *",
   "language": "python",
   "name": "python3"
  },
  "language_info": {
   "codemirror_mode": {
    "name": "ipython",
    "version": 3
   },
   "file_extension": ".py",
   "mimetype": "text/x-python",
   "name": "python",
   "nbconvert_exporter": "python",
   "pygments_lexer": "ipython3",
   "version": "3.8.10"
  }
 },
 "nbformat": 4,
 "nbformat_minor": 5
}
